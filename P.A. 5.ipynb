{
 "cells": [
  {
   "cell_type": "code",
   "execution_count": 20,
   "id": "0e39d16c",
   "metadata": {},
   "outputs": [],
   "source": [
    "Translated_words = {'hello' : 'hallo',\n",
    "                   'cat' : 'catze',\n",
    "                   'dog' : 'hund',\n",
    "                   'winner' : 'sieger',\n",
    "                   'loser' : 'verlierer',\n",
    "                   'school' : 'universität',\n",
    "                   'homework' : 'hausaufgabe',\n",
    "                   'scholar' :  'gelehrte',\n",
    "                   'book' : 'buch',\n",
    "                   'sleep' : 'schlaf',\n",
    "                   'money' : 'geld',\n",
    "                   'phone' : 'telefon',\n",
    "                   'map' : 'landkarte',\n",
    "                   'boy' : 'junge',\n",
    "                   'girl' : 'mädchen',\n",
    "                   'player' : 'spieler',\n",
    "                   'soldier' : 'soldat',\n",
    "                   'football' : 'fußball',\n",
    "                   'car' : 'wagen',\n",
    "                   'king' : 'könig' }\n",
    "                    \n",
    "    #my dictionary contains german translations"
   ]
  },
  {
   "cell_type": "code",
   "execution_count": 15,
   "id": "b496aeb6",
   "metadata": {},
   "outputs": [
    {
     "data": {
      "text/plain": [
       "'könig'"
      ]
     },
     "execution_count": 15,
     "metadata": {},
     "output_type": "execute_result"
    }
   ],
   "source": [
    "Translated_words['king']"
   ]
  },
  {
   "cell_type": "code",
   "execution_count": 21,
   "id": "0ba8d41e",
   "metadata": {},
   "outputs": [
    {
     "name": "stdout",
     "output_type": "stream",
     "text": [
      "hallo\n",
      "catze\n",
      "hund\n",
      "sieger\n",
      "verlierer\n",
      "universität\n",
      "hausaufgabe\n",
      "gelehrte\n",
      "buch\n",
      "schlaf\n",
      "geld\n",
      "telefon\n",
      "landkarte\n",
      "junge\n",
      "mädchen\n",
      "spieler\n",
      "soldat\n",
      "fußball\n",
      "wagen\n",
      "könig\n"
     ]
    }
   ],
   "source": [
    "for i in Translated_words.values(): #testing my dictionaries integrity\n",
    "    print(i)"
   ]
  },
  {
   "cell_type": "code",
   "execution_count": 57,
   "id": "e44ba193",
   "metadata": {},
   "outputs": [
    {
     "name": "stdout",
     "output_type": "stream",
     "text": [
      "Enter a word to translate from English to German (enter blank to stop): school\n",
      "In German that word is universität\n",
      "Enter a word to translate from English to German (enter blank to stop):book\n",
      "In German that word is buch\n",
      "Enter a word to translate from English to German (enter blank to stop):scholar\n",
      "In German that word is gelehrte\n",
      "Enter a word to translate from English to German (enter blank to stop):man\n",
      "In German that word is not present\n",
      "Enter a word to translate from English to German (enter blank to stop):king\n",
      "In German that word is könig\n",
      "Enter a word to translate from English to German (enter blank to stop):dog\n",
      "In German that word is hund\n",
      "Enter a word to translate from English to German (enter blank to stop):woman\n",
      "In German that word is None\n",
      "Enter a word to translate from English to German (enter blank to stop):\n"
     ]
    }
   ],
   "source": [
    "word = input('Enter a word to translate from English to German (enter blank to stop): ' )\n",
    "for key in Translated_words:\n",
    "    if len(word)>0:   #on this part, I couldn't figure out how to get the python to accept a integer and a string, so I adjusted\n",
    "        print('In German that word is', Translated_words.get(word))\n",
    "        word = input('Enter a word to translate from English to German (enter blank to stop):' )\n",
    "    else:\n",
    "        break\n"
   ]
  },
  {
   "cell_type": "code",
   "execution_count": 58,
   "id": "9bec3d55",
   "metadata": {},
   "outputs": [],
   "source": [
    "#also had trouble with getting the correct output"
   ]
  },
  {
   "cell_type": "code",
   "execution_count": 69,
   "id": "e051a6fe",
   "metadata": {},
   "outputs": [
    {
     "name": "stdout",
     "output_type": "stream",
     "text": [
      "{'Sept. 1': 74.1, 'Sept. 2': 72.5, 'Sept. 3': 73.3, 'Sept. 4': 74.4, 'Sept.5': 72.7, 'Sept. 6': 73.5, 'Sept. 7': 74.1, 'Sept. 8': 72.2, 'Sept. 9': 70.2, 'Sept. 10': 70.4, 'Sept. 11': 72.9, 'Sept. 12': 77.4, 'Sept. 13': 78.8, 'Sept. 14': 80.1, 'Sept. 15': 76.2, 'Sept. 16': 74.4, 'Sept. 17': 78.3, 'Sept. 18': 79.2, 'Sept. 19': 77.1, 'Sept. 20': 72.2, 'Sept. 21': 73.1, 'Sept. 22': 61.2, 'Sept. 23': 60.5, 'Sept. 24': 63.3, 'Sept. 25': 64.5, 'Sept. 26': 63.3, 'Sept. 27': 71.5, 'Sept. 28': 76.2, 'Sept. 29': 77.1, 'Sept. 30': 75.3}\n"
     ]
    }
   ],
   "source": [
    "weather_forecast = {'Sept. 1' : 74.1 ,\n",
    "                   'Sept. 2' : 72.5,\n",
    "                   'Sept. 3' : 73.3,\n",
    "                   'Sept. 4': 74.4,\n",
    "                   'Sept.5': 72.7,\n",
    "                   'Sept. 6' : 73.5,\n",
    "                   'Sept. 7' : 74.1,\n",
    "                   'Sept. 8' : 72.2,\n",
    "                   'Sept. 9': 70.2,\n",
    "                   'Sept. 10' : 70.4,\n",
    "                   'Sept. 11': 72.9,\n",
    "                   'Sept. 12': 77.4,\n",
    "                   'Sept. 13': 78.8,\n",
    "                   'Sept. 14' : 80.1,\n",
    "                   'Sept. 15' : 76.2,\n",
    "                   'Sept. 16': 74.4,\n",
    "                   'Sept. 17' : 78.3,\n",
    "                   'Sept. 18' : 79.2,\n",
    "                   'Sept. 19': 77.1,\n",
    "                   'Sept. 20': 72.2,\n",
    "                   'Sept. 21' : 73.1,\n",
    "                   'Sept. 22': 61.2,\n",
    "                   'Sept. 23': 60.5,\n",
    "                   'Sept. 24' : 63.3,\n",
    "                    'Sept. 25': 64.5,\n",
    "                   'Sept. 26': 63.3,\n",
    "                   'Sept. 27': 71.5,\n",
    "                   'Sept. 28': 76.2,\n",
    "                   'Sept. 29' : 77.1,\n",
    "                   'Sept. 30' : 75.3\n",
    "                   }\n",
    "\n",
    "print(weather_forecast)"
   ]
  },
  {
   "cell_type": "code",
   "execution_count": 78,
   "id": "e20857b9",
   "metadata": {},
   "outputs": [],
   "source": [
    "list1 = list(weather_forecast.values())"
   ]
  },
  {
   "cell_type": "code",
   "execution_count": 82,
   "id": "f581761b",
   "metadata": {},
   "outputs": [
    {
     "name": "stdout",
     "output_type": "stream",
     "text": [
      "60.5\n",
      "80.1\n"
     ]
    }
   ],
   "source": [
    "print(min(list1))\n",
    "print(max(list1))"
   ]
  },
  {
   "cell_type": "code",
   "execution_count": null,
   "id": "0fa1d09e",
   "metadata": {},
   "outputs": [],
   "source": []
  }
 ],
 "metadata": {
  "kernelspec": {
   "display_name": "Python 3",
   "language": "python",
   "name": "python3"
  },
  "language_info": {
   "codemirror_mode": {
    "name": "ipython",
    "version": 3
   },
   "file_extension": ".py",
   "mimetype": "text/x-python",
   "name": "python",
   "nbconvert_exporter": "python",
   "pygments_lexer": "ipython3",
   "version": "3.8.8"
  }
 },
 "nbformat": 4,
 "nbformat_minor": 5
}
